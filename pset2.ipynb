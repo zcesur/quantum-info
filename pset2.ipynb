{
 "cells": [
  {
   "cell_type": "markdown",
   "metadata": {},
   "source": [
    "# Zafer Cesur\n",
    "## MATH 316 - HW 2"
   ]
  },
  {
   "cell_type": "code",
   "execution_count": 1,
   "metadata": {
    "collapsed": false
   },
   "outputs": [],
   "source": [
    "import util\n",
    "import numpy as np"
   ]
  },
  {
   "cell_type": "markdown",
   "metadata": {},
   "source": [
    "# Section 1.4"
   ]
  },
  {
   "cell_type": "markdown",
   "metadata": {},
   "source": [
    "## Problem 2"
   ]
  },
  {
   "cell_type": "markdown",
   "metadata": {},
   "source": [
    "$$\\renewcommand{\\vec}[1]{\\mathbf{#1}}$$\n",
    "We have\n",
    "\n",
    "$$\n",
    "\\begin{pmatrix}\n",
    "    2 & 1 \\\\\n",
    "    3 & 6\n",
    "\\end{pmatrix}\n",
    "\\begin{pmatrix}\n",
    "    \\alpha_1 & \\alpha_3 \\\\\n",
    "    \\alpha_2 & \\alpha_4\n",
    "\\end{pmatrix} =\n",
    "\\begin{pmatrix}\n",
    "    S & K \\\\\n",
    "    M & H\n",
    "\\end{pmatrix} =\n",
    "\\begin{pmatrix}\n",
    "    18 & 10 \\\\\n",
    "    12 & 7\n",
    "\\end{pmatrix}\n",
    "$$\n",
    "\n",
    "Since $ad-bc=12-3=9$, we need a number $h\\in\\mathbb{Z}_{26}$ such that $9h=1$. Note that $3\\cdot9\\equiv 1\\pmod{26}$, so we can use $h=3$. Now, we let\n",
    "$$\n",
    "B =\n",
    "\\begin{pmatrix}\n",
    "    3\\cdot6\\pmod{26} & 3\\cdot(-1)\\pmod{26} \\\\\n",
    "    3\\cdot(-3)\\pmod{26} & 3\\cdot2\\pmod{26}\n",
    "\\end{pmatrix} = \n",
    "\\begin{pmatrix}\n",
    "    18 & 23 \\\\\n",
    "    17 & 6\n",
    "\\end{pmatrix}$$\n",
    "\n",
    "Indeed,\n",
    "$$\n",
    "\\begin{pmatrix}\n",
    "    18 & 23 \\\\\n",
    "    17 & 6\n",
    "\\end{pmatrix}\n",
    "\\begin{pmatrix}\n",
    "    2 & 1 \\\\\n",
    "    3 & 6\n",
    "\\end{pmatrix} = I\n",
    "$$\n",
    "\n",
    "Thus, we can write\n",
    "$$\n",
    "\\begin{pmatrix}\n",
    "    18 & 23 \\\\\n",
    "    17 & 6\n",
    "\\end{pmatrix}\n",
    "\\begin{pmatrix}\n",
    "    18 & 10 \\\\\n",
    "    12 & 7\n",
    "\\end{pmatrix} =\n",
    "\\begin{pmatrix}\n",
    "    18^2+23\\cdot12\\pmod{26} & 18\\cdot10+23\\cdot7\\pmod{26} \\\\\n",
    "    17\\cdot12+6\\cdot7\\pmod{26} & 17\\cdot10+6\\cdot7\\pmod{26}\n",
    "\\end{pmatrix} =\n",
    "\\begin{pmatrix}\n",
    "    2 & 3 \\\\\n",
    "    14 & 4\n",
    "\\end{pmatrix} =\n",
    "\\begin{pmatrix}\n",
    "    C & D \\\\\n",
    "    O & E\n",
    "\\end{pmatrix}\n",
    "$$\n",
    "\n",
    "Therefore, the code is `CODE`."
   ]
  },
  {
   "cell_type": "code",
   "execution_count": 2,
   "metadata": {
    "collapsed": false
   },
   "outputs": [
    {
     "data": {
      "text/plain": [
       "'SMKH'"
      ]
     },
     "execution_count": 2,
     "metadata": {},
     "output_type": "execute_result"
    }
   ],
   "source": [
    "util.hill_cipher(string='CODE', key=np.matrix(((2, 1), (3, 6))))"
   ]
  },
  {
   "cell_type": "markdown",
   "metadata": {},
   "source": [
    "# Section 1.5"
   ]
  },
  {
   "cell_type": "markdown",
   "metadata": {},
   "source": [
    "## Problem 2"
   ]
  },
  {
   "cell_type": "markdown",
   "metadata": {
    "collapsed": true
   },
   "source": [
    "We have\n",
    "\n",
    "$$\n",
    "K\n",
    "\\begin{pmatrix}\n",
    "    C \\\\\n",
    "    D\n",
    "\\end{pmatrix} = \n",
    "K\n",
    "\\begin{pmatrix}\n",
    "    2 \\\\\n",
    "    3\n",
    "\\end{pmatrix} =\n",
    "\\begin{pmatrix}\n",
    "    R \\\\\n",
    "    R\n",
    "\\end{pmatrix} =\n",
    "\\begin{pmatrix}\n",
    "    17 \\\\\n",
    "    17\n",
    "\\end{pmatrix}\n",
    "$$\n",
    "\n",
    "and likewise\n",
    "\n",
    "$$\n",
    "K\n",
    "\\begin{pmatrix}\n",
    "    9 \\\\\n",
    "    10\n",
    "\\end{pmatrix} =\n",
    "\\begin{pmatrix}\n",
    "    14 \\\\\n",
    "    21\n",
    "\\end{pmatrix}\n",
    "$$\n",
    "\n",
    "We can write\n",
    "\n",
    "$$\n",
    "K\n",
    "\\begin{pmatrix}\n",
    "    2 & 9 \\\\\n",
    "    3 & 10\n",
    "\\end{pmatrix} =\n",
    "\\begin{pmatrix}\n",
    "    17 & 14 \\\\\n",
    "    17 & 21\n",
    "\\end{pmatrix}\n",
    "$$\n",
    "Note that $2\\cdot10-3\\cdot9=19$. We need $h\\in\\mathbb{Z}_{26}$ such that $19h=1$. This is equivalent to $-7h\\equiv1\\pmod{26} \\Leftrightarrow 7h\\equiv-1\\pmod{26}$. Note that $7$ divides $-1+3\\cdot26$, so we can write $7h\\equiv77\\pmod{26}$ and find that $h=11$. It follows that\n",
    "\n",
    "\\begin{align*}\n",
    "K\n",
    "\\begin{pmatrix}\n",
    "    2 & 9 \\\\\n",
    "    3 & 10\n",
    "\\end{pmatrix}\n",
    "\\begin{pmatrix}\n",
    "    11\\cdot10 & 11\\cdot(-9) \\\\\n",
    "    11\\cdot(-3) & 11\\cdot2\n",
    "\\end{pmatrix} & =\n",
    "\\begin{pmatrix}\n",
    "    17 & 14 \\\\\n",
    "    17 & 21\n",
    "\\end{pmatrix}\n",
    "\\begin{pmatrix}\n",
    "    11\\cdot10 & 11\\cdot(-9) \\\\\n",
    "    11\\cdot(-3) & 11\\cdot2\n",
    "\\end{pmatrix} \\\\\n",
    "KI & =\n",
    "\\begin{pmatrix}\n",
    "    17 & 14 \\\\\n",
    "    17 & 21\n",
    "\\end{pmatrix}\n",
    "\\begin{pmatrix}\n",
    "    11\\cdot10 & 11\\cdot(-9) \\\\\n",
    "    11\\cdot(-3) & 11\\cdot2\n",
    "\\end{pmatrix} \\\\\n",
    "K & =\n",
    "\\begin{pmatrix}\n",
    "    4 & 3 \\\\\n",
    "    7 & 1\n",
    "\\end{pmatrix}\n",
    "\\end{align*}\n",
    "\n",
    "Now we solve\n",
    "$$\n",
    "\\begin{pmatrix}\n",
    "    4 & 3 \\\\\n",
    "    7 & 1\n",
    "\\end{pmatrix}\n",
    "\\begin{pmatrix}\n",
    "    \\alpha_1 & \\alpha_3 \\\\\n",
    "    \\alpha_2 & \\alpha_4\n",
    "\\end{pmatrix} =\n",
    "\\begin{pmatrix}\n",
    "    W & T \\\\\n",
    "    G & K\n",
    "\\end{pmatrix} =\n",
    "\\begin{pmatrix}\n",
    "    22 & 19 \\\\\n",
    "    6 & 10\n",
    "\\end{pmatrix}\n",
    "$$\n",
    "Note that $4\\cdot1-7\\cdot3=9$. We already solved $9h=1$ for $h\\in\\mathbb{Z}_{26}$ in the previous problem and found $h=3$. We can write\n",
    "$$\n",
    "\\begin{pmatrix}\n",
    "    \\alpha_1 & \\alpha_3 \\\\\n",
    "    \\alpha_2 & \\alpha_4\n",
    "\\end{pmatrix} =\n",
    "\\begin{pmatrix}\n",
    "    3\\cdot1 & 3\\cdot(-3) \\\\\n",
    "    3\\cdot(-7) & 3\\cdot4\n",
    "\\end{pmatrix}\n",
    "\\begin{pmatrix}\n",
    "    22 & 19 \\\\\n",
    "    6 & 10\n",
    "\\end{pmatrix} =\n",
    "\\begin{pmatrix}\n",
    "    12 & 19 \\\\\n",
    "    0 & 7\n",
    "\\end{pmatrix} =\n",
    "\\begin{pmatrix}\n",
    "    M & T \\\\\n",
    "    A & H\n",
    "\\end{pmatrix} \n",
    "$$\n",
    "\n",
    "Thus, the encrypted text is `MATH`."
   ]
  },
  {
   "cell_type": "code",
   "execution_count": 3,
   "metadata": {
    "collapsed": false
   },
   "outputs": [
    {
     "data": {
      "text/plain": [
       "'WGTK'"
      ]
     },
     "execution_count": 3,
     "metadata": {},
     "output_type": "execute_result"
    }
   ],
   "source": [
    "util.hill_cipher(string='MATH', key=np.matrix(((4, 3), (7, 1))))"
   ]
  },
  {
   "cell_type": "markdown",
   "metadata": {},
   "source": [
    "## Problem 3"
   ]
  },
  {
   "cell_type": "markdown",
   "metadata": {},
   "source": [
    "First let us separate the text into chunks of length 4, starting with letters at odd positions, as shown below."
   ]
  },
  {
   "cell_type": "code",
   "execution_count": 4,
   "metadata": {
    "collapsed": false
   },
   "outputs": [
    {
     "name": "stdout",
     "output_type": "stream",
     "text": [
      "['JQXM', 'XMDI', 'DISJ', 'SJZG', 'ZGHI', 'HIVN']\n"
     ]
    }
   ],
   "source": [
    "s='JQXMDISJZGHIVN'\n",
    "chunks = [s[i:i+4] for i in range(0, len(s)-2, 2)]\n",
    "print chunks"
   ]
  },
  {
   "cell_type": "markdown",
   "metadata": {},
   "source": [
    "Now we convert these chunks into matrices, so `JQXM` becomes $\\begin{pmatrix}\n",
    "    9 & 23 \\\\\n",
    "    16 & 12\n",
    "\\end{pmatrix}$ since $\\begin{pmatrix}\n",
    "    J \\\\\n",
    "    Q\n",
    "\\end{pmatrix}=\\begin{pmatrix}\n",
    "    9 \\\\\n",
    "    16\n",
    "\\end{pmatrix}$ and $\\begin{pmatrix}\n",
    "    X \\\\\n",
    "    M\n",
    "\\end{pmatrix}=\\begin{pmatrix}\n",
    "    23 \\\\\n",
    "    12\n",
    "\\end{pmatrix}$."
   ]
  },
  {
   "cell_type": "code",
   "execution_count": 5,
   "metadata": {
    "collapsed": false
   },
   "outputs": [],
   "source": [
    "matrices = [util.to_numeric_blocks(string=chunk, block_size=2) for chunk in chunks]"
   ]
  },
  {
   "cell_type": "markdown",
   "metadata": {},
   "source": [
    "We compute `ad-bc` in modulo 26 for each of these matrices."
   ]
  },
  {
   "cell_type": "code",
   "execution_count": 6,
   "metadata": {
    "collapsed": false
   },
   "outputs": [
    {
     "name": "stdout",
     "output_type": "stream",
     "text": [
      "[0, 18, 13, 13, 2, 1]\n"
     ]
    }
   ],
   "source": [
    "det = [(A[0,0]*A[1,1]-A[0,1]*A[1,0])%26 for A in matrices]\n",
    "print det"
   ]
  },
  {
   "cell_type": "markdown",
   "metadata": {},
   "source": [
    "We find the modular multiplicative inverse for each of these numbers using the Extended Euclidean algorithm.\n",
    "\n",
    "(I used the code that was given in https://en.wikibooks.org/wiki/Algorithm_Implementation/Mathematics/Extended_Euclidean_algorithm)"
   ]
  },
  {
   "cell_type": "code",
   "execution_count": 7,
   "metadata": {
    "collapsed": false
   },
   "outputs": [
    {
     "name": "stdout",
     "output_type": "stream",
     "text": [
      "[None, None, None, None, None, 1]\n"
     ]
    }
   ],
   "source": [
    "det_inv = [util.mulinv(x, 26) for x in det]\n",
    "print det_inv"
   ]
  },
  {
   "cell_type": "markdown",
   "metadata": {},
   "source": [
    "We observe that the inverse only exists for the last matrix, which corresponds to `HIVN`. We find its inverse using $\\mathbf{A}^{-1} =\n",
    "\\det{\\mathbf{A}}^{-1}[(\\operatorname{tr} \\mathbf{A})\\mathbf{I}-\\mathbf{A}]$."
   ]
  },
  {
   "cell_type": "code",
   "execution_count": 8,
   "metadata": {
    "collapsed": false
   },
   "outputs": [
    {
     "name": "stdout",
     "output_type": "stream",
     "text": [
      "[[13  5]\n",
      " [18  7]]\n"
     ]
    }
   ],
   "source": [
    "A = matrices[5]\n",
    "A_inv = det_inv[5]*(np.trace(A)*np.identity(2, dtype='int')-A) % 26\n",
    "\n",
    "print A_inv"
   ]
  },
  {
   "cell_type": "markdown",
   "metadata": {},
   "source": [
    "Now we take a guess. I think `BEST` might be corresponding to last four letters. With this assumption, we can define a key matrix $K$ such that $K\\begin{pmatrix}\n",
    "    H & V \\\\\n",
    "    I & N\n",
    "\\end{pmatrix} =\n",
    "\\begin{pmatrix}\n",
    "    B & S \\\\\n",
    "    E & T\n",
    "\\end{pmatrix}$. Since we know the inverse matrix of $\\begin{pmatrix}\n",
    "    H & V \\\\\n",
    "    I & N\n",
    "\\end{pmatrix}$, we can easily find $K$."
   ]
  },
  {
   "cell_type": "code",
   "execution_count": 9,
   "metadata": {
    "collapsed": false
   },
   "outputs": [
    {
     "name": "stdout",
     "output_type": "stream",
     "text": [
      "[[25  1]\n",
      " [ 4 23]]\n"
     ]
    }
   ],
   "source": [
    "K = np.matmul(util.to_numeric_blocks(string='BEST', block_size=2), A_inv) % 26\n",
    "print K"
   ]
  },
  {
   "cell_type": "markdown",
   "metadata": {},
   "source": [
    "Now we apply this key to the ciphertext to get the plaintext."
   ]
  },
  {
   "cell_type": "code",
   "execution_count": 10,
   "metadata": {
    "collapsed": false
   },
   "outputs": [
    {
     "data": {
      "text/plain": [
       "'HOPEFORTHEBEST'"
      ]
     },
     "execution_count": 10,
     "metadata": {},
     "output_type": "execute_result"
    }
   ],
   "source": [
    "util.hill_cipher(s, key=K)"
   ]
  },
  {
   "cell_type": "markdown",
   "metadata": {},
   "source": [
    "# Section 1.6"
   ]
  },
  {
   "cell_type": "markdown",
   "metadata": {},
   "source": [
    "## Problem 1"
   ]
  },
  {
   "cell_type": "markdown",
   "metadata": {},
   "source": [
    "### (a)"
   ]
  },
  {
   "cell_type": "markdown",
   "metadata": {
    "collapsed": true
   },
   "source": [
    "As we have shown in class, it is sufficient to show additivity. We can write\n",
    "$$\n",
    "\\begin{align*}\n",
    "E((x_1,x_2,x_3,x_4)\\oplus(y_1,y_2,y_3,y_4)) &= E((x_1\\oplus y_1, x_2\\oplus y_2, x_3\\oplus y_3, x_4\\oplus y_4)) \\\\\n",
    "&= (x_1\\oplus y_1, x_2\\oplus y_2, x_2\\oplus y_2, x_3\\oplus y_3, x_4\\oplus y_4, x_4\\oplus y_4) \\\\\n",
    "&= (x_1, x_2, x_2, x_3, x_4, x_4) \\oplus (y_1, y_2, y_2, y_3, y_4, y_4) \\\\\n",
    "&= E((x_1,x_2,x_3,x_4))\\oplus E((y_1,y_2,y_3,y_4))\n",
    "\\end{align*}\n",
    "$$"
   ]
  },
  {
   "cell_type": "markdown",
   "metadata": {},
   "source": [
    "### (b)"
   ]
  },
  {
   "cell_type": "markdown",
   "metadata": {},
   "source": [
    "$$\n",
    "\\begin{align*}\n",
    "P((x_1,x_2,x_3,x_4,x_5,x_6)\\oplus(y_1,y_2,y_3,y_4,y_5,y_6)) &= P((x_1\\oplus y_1, x_2\\oplus y_2, x_3\\oplus y_3, x_4\\oplus y_4, x_5\\oplus y_5, x_6\\oplus y_6)) \\\\\n",
    "&= (x_3\\oplus y_3, x_4\\oplus y_4, x_1\\oplus y_1, x_5\\oplus y_5, x_2\\oplus y_2, x_6\\oplus y_6) \\\\\n",
    "&= (x_3, x_4, x_1, x_5, x_2, x_6) \\oplus (y_3, y_4, y_1, y_5, y_2, y_6) \\\\\n",
    "&= P((x_1,x_2,x_3,x_4,x_5,x_6))\\oplus P((y_1,y_2,y_3,y_4,y_5,y_6))\n",
    "\\end{align*}\n",
    "$$"
   ]
  },
  {
   "cell_type": "markdown",
   "metadata": {},
   "source": [
    "## Problem 2"
   ]
  },
  {
   "cell_type": "markdown",
   "metadata": {
    "collapsed": true
   },
   "source": [
    "By definition, $E^{-1}(E(\\vec{x})) = \\vec{x}$ for all $\\vec{x}\\in\\mathbb{Z}_2^n$. Let $\\vec{x},\\,\\vec{y}\\in\\mathbb{Z}_2^n$ be two arbitrary vectors. It follows that\n",
    "$$\n",
    "\\begin{align*}\n",
    "E^{-1}(E(\\vec{x}\\oplus\\vec{y})) &= \\vec{x}\\oplus\\vec{y} \\\\\n",
    "&= E^{-1}(E(\\vec{x}))\\oplus E^{-1}(E(\\vec{y})) \\tag{1}\n",
    "\\end{align*}\n",
    "$$\n",
    "On the other hand, by linearity of $E$ we can write\n",
    "$$\n",
    "\\begin{align*}\n",
    "E^{-1}(E(\\vec{x}\\oplus\\vec{y})) &= E^{-1}(E(\\vec{x})\\oplus E(\\vec{y})) \\tag{2}\n",
    "\\end{align*}\n",
    "$$\n",
    "From (1) and (2) it follows that $$E^{-1}(E(\\vec{x}))\\oplus E^{-1}(E(\\vec{y})) = E^{-1}(E(\\vec{x})\\oplus E(\\vec{y}))$$\n",
    "This implies that $E^{-1}$ is additive for all vectors in $E(\\mathbb{Z}_2^n)$, that is, the range of $E$, which is a subspace of $\\mathbb{Z}_2^n$. But since $E$ is invertible, it is surjective, which implies $E(\\mathbb{Z}_2^n) = \\mathbb{Z}_2^n$. Hence, we are done.\n",
    "\n",
    "(Note that, again, we do not need to check for multiplicativity since additivity implies linearity in $\\mathbb{Z}_2^n$)."
   ]
  },
  {
   "cell_type": "markdown",
   "metadata": {},
   "source": [
    "## Problem 3"
   ]
  },
  {
   "cell_type": "markdown",
   "metadata": {
    "collapsed": true
   },
   "source": [
    "We define canonical vectors $\\vec{e_1},\\,\\vec{e_2},\\,\\dots,\\,\\vec{e_n}$ such that $\\vec{e_i}$ has 1 in $i^{\\textrm{th}}$ position and 0 everywhere else. Then, we compute $E(\\vec{e_i})$ for each $i\\in\\{1,\\,2,\\,\\dots,\\,n\\}$. We define the $n\\times n$ matrix $\\vec{A}$ such that its $i^{\\textrm{th}}$ column is $E(\\vec{e_i})$ as follows.\n",
    "$$\n",
    "\\vec{A} =\n",
    "\\begin{pmatrix}\n",
    "    \\mid & \\mid &        & \\mid \\\\\n",
    "    E(\\vec{e_1}) & E(\\vec{e_2}) & \\ldots & E(\\vec{e_n}) \\\\\n",
    "    \\mid & \\mid &        & \\mid\n",
    "\\end{pmatrix}\n",
    "$$\n",
    "This gives us $$E(\\vec{x}) = \\vec{A}\\vec{x} \\quad \\forall \\vec{x}\\in\\mathbb{Z}_2^n$$ To prove that this is indeed true, choose an arbitrary vector $\\vec{x}\\in\\mathbb{Z}_2^n$. Since $\\{\\vec{e_1},\\,\\vec{e_2},\\,\\dots,\\,\\vec{e_n}\\}$ is a basis for our vector space, we can write $\\vec{x} = \\sum_i^n \\alpha_i\\vec{e_i}$ for some scalars $\\alpha_i$. Since $E$ is linear, we can then write $E(\\vec{x}) = \\sum_i^n \\alpha_iE(\\vec{e_i})$. Now consider $\\vec{A}\\vec{x}$. We can write\n",
    "$$\n",
    "\\vec{A}\\vec{x} =\n",
    "\\begin{pmatrix}\n",
    "    \\mid & \\mid &        & \\mid \\\\\n",
    "    E(\\vec{e_1}) & E(\\vec{e_2}) & \\ldots & E(\\vec{e_n}) \\\\\n",
    "    \\mid & \\mid &        & \\mid\n",
    "\\end{pmatrix}\n",
    "\\begin{pmatrix}\n",
    "    \\alpha_1 \\\\\n",
    "    \\alpha_2 \\\\\n",
    "    \\vdots \\\\\n",
    "    \\alpha_n\n",
    "\\end{pmatrix} =\n",
    "\\begin{pmatrix}\n",
    "    \\mid \\\\\n",
    "    E(\\vec{e_1}) \\\\\n",
    "    \\mid\n",
    "\\end{pmatrix}\n",
    "\\begin{pmatrix}\n",
    "    \\alpha_1\n",
    "\\end{pmatrix} +\n",
    "\\begin{pmatrix}\n",
    "    \\mid \\\\\n",
    "    E(\\vec{e_2}) \\\\\n",
    "    \\mid\n",
    "\\end{pmatrix}\n",
    "\\begin{pmatrix}\n",
    "    \\alpha_2\n",
    "\\end{pmatrix} +\n",
    "\\dots +\n",
    "\\begin{pmatrix}\n",
    "    \\mid \\\\\n",
    "    E(\\vec{e_n}) \\\\\n",
    "    \\mid\n",
    "\\end{pmatrix}\n",
    "\\begin{pmatrix}\n",
    "    \\alpha_n\n",
    "\\end{pmatrix} =\n",
    "\\sum_i^n \\alpha_iE(\\vec{e_i}) = E(\\vec{x})\n",
    "$$\n",
    "using column by row matrix expansion.\n",
    "\n",
    "Finally we compute $\\vec{A}^{-1}$ (modular inverse), assuming it is invertible, and apply it to the ciphertext to get the plaintext. If the matrix $\\vec{A}$ is not invertible, then the linear transformation $E$ itself is not invertible, which implies that we cannot recover the plaintext."
   ]
  }
 ],
 "metadata": {
  "kernelspec": {
   "display_name": "Python [conda root]",
   "language": "python",
   "name": "conda-root-py"
  },
  "language_info": {
   "codemirror_mode": {
    "name": "ipython",
    "version": 2
   },
   "file_extension": ".py",
   "mimetype": "text/x-python",
   "name": "python",
   "nbconvert_exporter": "python",
   "pygments_lexer": "ipython2",
   "version": "2.7.13"
  }
 },
 "nbformat": 4,
 "nbformat_minor": 2
}
