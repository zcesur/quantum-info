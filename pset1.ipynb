{
 "cells": [
  {
   "cell_type": "markdown",
   "metadata": {},
   "source": [
    "# Zafer Cesur\n",
    "## MATH 316 - HW 1"
   ]
  },
  {
   "cell_type": "code",
   "execution_count": 1,
   "metadata": {
    "collapsed": true
   },
   "outputs": [],
   "source": [
    "import util"
   ]
  },
  {
   "cell_type": "markdown",
   "metadata": {},
   "source": [
    "# Section 1.1"
   ]
  },
  {
   "cell_type": "markdown",
   "metadata": {},
   "source": [
    "## Problem 2"
   ]
  },
  {
   "cell_type": "code",
   "execution_count": 2,
   "metadata": {
    "collapsed": true
   },
   "outputs": [],
   "source": [
    "s = \"VQFGE KRJGT VJKUU GPVGP EGUJK HVGCE JNGVV GTDCE MYCTF DAVYQ UVGRU\".replace(' ', '').upper()"
   ]
  },
  {
   "cell_type": "markdown",
   "metadata": {},
   "source": [
    "First let us take a look at the most frequent trigrams that appear in the ciphertext, in hopes of deciphering the text by replacing them with common 3-letter words in English."
   ]
  },
  {
   "cell_type": "code",
   "execution_count": 3,
   "metadata": {
    "collapsed": false
   },
   "outputs": [
    {
     "data": {
      "text/plain": [
       "[('FDA', 1), ('VYQ', 1), ('GUJ', 1), ('KUU', 1), ('GVV', 1)]"
      ]
     },
     "execution_count": 3,
     "metadata": {},
     "output_type": "execute_result"
    }
   ],
   "source": [
    "util.most_freq_ngrams(string=s, length=3)"
   ]
  },
  {
   "cell_type": "markdown",
   "metadata": {},
   "source": [
    "Not helpful! Apparently there is no repeating trigram. Let us look at the frequency of the individual letters."
   ]
  },
  {
   "cell_type": "code",
   "execution_count": 4,
   "metadata": {
    "collapsed": false
   },
   "outputs": [
    {
     "data": {
      "text/plain": [
       "[('G', 9), ('V', 8), ('U', 5), ('E', 4), ('J', 4)]"
      ]
     },
     "execution_count": 4,
     "metadata": {},
     "output_type": "execute_result"
    }
   ],
   "source": [
    "util.most_freq_ngrams(string=s, length=1)"
   ]
  },
  {
   "cell_type": "markdown",
   "metadata": {},
   "source": [
    "Let us try to shift each letter so that G becomes a letter that appears very frequently in English. How about E?"
   ]
  },
  {
   "cell_type": "code",
   "execution_count": 5,
   "metadata": {
    "collapsed": false
   },
   "outputs": [
    {
     "data": {
      "text/plain": [
       "'TODECIPHERTHISSENTENCESHIFTEACHLETTERBACKWARDBYTWOSTEPS'"
      ]
     },
     "execution_count": 5,
     "metadata": {},
     "output_type": "execute_result"
    }
   ],
   "source": [
    "util.shift_letters(string=s, from_letter='G', to_letter='E')"
   ]
  },
  {
   "cell_type": "markdown",
   "metadata": {},
   "source": [
    "Bingo!"
   ]
  },
  {
   "cell_type": "markdown",
   "metadata": {},
   "source": [
    "## Problem 3"
   ]
  },
  {
   "cell_type": "code",
   "execution_count": 6,
   "metadata": {
    "collapsed": false
   },
   "outputs": [],
   "source": [
    "s = 'NRUATW YAHJSE DIODII TLWCIJ DOIPRA DPANTO EOOPEG TNCWAS DOBYAP FRALLW HSQNHW ' \\\n",
    "    'DTDPIJ GENDEO BUWCEH LWKQGN LVEEYZ ZEOYOP XAGPIP DEHQOX GIKFSE YTDPOX DENGEZ ' \\\n",
    "    'AHAYOI PNWZNA SAOEOH ZOGQON AAPEEN YSWYDB TNZEHA SIZOEJ ZRZPRX FTPSEN PIOLNE ' \\\n",
    "    'XPKCTW YTZTFB PRAYCA MEPHEA YTDPSA EWKAUN DUEESE YCNJPP LNWWYO TSKYEG YOSDTD ' \\\n",
    "    'LTPSED TDZPNK CDACWW DCKYSP CUYEEZ MYDFMW YIJEEH WICPNY PWDPRA LSPSEK CDACOB ' \\\n",
    "    'YAPFRA LPLLRA YTHJCK XEOQRK XAOZUN NEKFTO TDAZFK FROPLR PSWYDE DMKCEI JSPPRE ZUO' \\\n",
    "    .replace(' ', '').upper()"
   ]
  },
  {
   "cell_type": "markdown",
   "metadata": {},
   "source": [
    "Again, we start with a frequency analysis."
   ]
  },
  {
   "cell_type": "code",
   "execution_count": 7,
   "metadata": {
    "collapsed": false
   },
   "outputs": [
    {
     "data": {
      "text/plain": [
       "[('DTD', 3), ('TDP', 3), ('PRA', 3), ('RAL', 3), ('PSE', 3)]"
      ]
     },
     "execution_count": 7,
     "metadata": {},
     "output_type": "execute_result"
    }
   ],
   "source": [
    "util.most_freq_ngrams(string=s, length=3)"
   ]
  },
  {
   "cell_type": "markdown",
   "metadata": {},
   "source": [
    "Let us take a look at how the different instances of, say, DTD are distributed in the plaintext. It is useful to look at the periodicity of their separations."
   ]
  },
  {
   "cell_type": "code",
   "execution_count": 8,
   "metadata": {
    "collapsed": false
   },
   "outputs": [
    {
     "data": {
      "text/plain": [
       "1"
      ]
     },
     "execution_count": 8,
     "metadata": {},
     "output_type": "execute_result"
    }
   ],
   "source": [
    "from re import finditer\n",
    "start_indices = [m.start() for m in finditer('DTD', s)]\n",
    "\n",
    "# Compute the greatest common divisor of index differences\n",
    "from fractions import gcd\n",
    "reduce(gcd, [x-y for i,x in enumerate(start_indices) for j,y in enumerate(start_indices) if x>y])"
   ]
  },
  {
   "cell_type": "markdown",
   "metadata": {},
   "source": [
    "It seems like our key is at most 1-letter long! That can't be true. Let us try another trigram, say, TDP."
   ]
  },
  {
   "cell_type": "code",
   "execution_count": 9,
   "metadata": {
    "collapsed": false
   },
   "outputs": [
    {
     "data": {
      "text/plain": [
       "6"
      ]
     },
     "execution_count": 9,
     "metadata": {},
     "output_type": "execute_result"
    }
   ],
   "source": [
    "start_indices = [m.start() for m in finditer('TDP', s)]\n",
    "reduce(gcd, [x-y for i,x in enumerate(start_indices) for j,y in enumerate(start_indices) if x>y])"
   ]
  },
  {
   "cell_type": "markdown",
   "metadata": {},
   "source": [
    "If we are on the right track, the key must be either 2, 3, or 6 letters long. Now let us try to substitute TDP with a commonly used word, say, THE, in order to extract a part of the supposed key."
   ]
  },
  {
   "cell_type": "code",
   "execution_count": 10,
   "metadata": {
    "collapsed": false
   },
   "outputs": [
    {
     "data": {
      "text/plain": [
       "'AWL'"
      ]
     },
     "execution_count": 10,
     "metadata": {},
     "output_type": "execute_result"
    }
   ],
   "source": [
    "util.substract_letters(minuend='TDP', substrahend='THE')"
   ]
  },
  {
   "cell_type": "markdown",
   "metadata": {},
   "source": [
    "Let us find which indices TDP corresponds to in modulo 6, so as to understand which part of the supposed key we unravelled."
   ]
  },
  {
   "cell_type": "code",
   "execution_count": 11,
   "metadata": {
    "collapsed": false
   },
   "outputs": [
    {
     "data": {
      "text/plain": [
       "[1, 2, 3]"
      ]
     },
     "execution_count": 11,
     "metadata": {},
     "output_type": "execute_result"
    }
   ],
   "source": [
    "range(s.find('TDP')%6, s.find('TDP')%6+3)"
   ]
  },
  {
   "cell_type": "markdown",
   "metadata": {},
   "source": [
    "It looks like our key is something along the lines of ?AWL??. We can now decipher the text partially using this knowledge."
   ]
  },
  {
   "cell_type": "code",
   "execution_count": 12,
   "metadata": {
    "collapsed": false
   },
   "outputs": [
    {
     "data": {
      "text/plain": [
       "'?RYP???ALY???ISS???LAR???OME???PEC???OSE???NGL???OFN???REA???SUC???THE???ERS???UAR???WOF???VIT???ESN???AKE???ELF???IOU???THE???ERV???HEN???NAO???AST???OKF???ATT???SAN???NDT???IDD???RDE???TTH???ISA???POR???TDI???REN???ETW???THE???WOP???UIT???CRY???NAL???SON???OWS???TTH???DDE???DER???CON???UCT???YHU???INT???IGE???WHE???STH???DER???ATU???PPA???TLY???ESF???ASO???EOU???DEO???RSE???SAN???MOR???STE???US'"
      ]
     },
     "execution_count": 12,
     "metadata": {},
     "output_type": "execute_result"
    }
   ],
   "source": [
    "util.decipher(string=s, key='?AWL??')"
   ]
  },
  {
   "cell_type": "markdown",
   "metadata": {},
   "source": [
    "My guess is that the plaintext starts with crypt-. Let us check."
   ]
  },
  {
   "cell_type": "code",
   "execution_count": 13,
   "metadata": {
    "collapsed": false
   },
   "outputs": [
    {
     "data": {
      "text/plain": [
       "'LAWLA'"
      ]
     },
     "execution_count": 13,
     "metadata": {},
     "output_type": "execute_result"
    }
   ],
   "source": [
    "util.substract_letters(minuend=s[0:5], substrahend='CRYPT')"
   ]
  },
  {
   "cell_type": "code",
   "execution_count": 14,
   "metadata": {
    "collapsed": false
   },
   "outputs": [
    {
     "data": {
      "text/plain": [
       "'CRYPT?NALYS?SISSI?ILARI?SOMER?SPECT?TOSEE?INGLA?SOFNA?UREAL?WSUCH?STHEI?VERSE?QUARE?AWOFG?AVITY?OESNO?MAKEI?SELFO?VIOUS?NTHEO?SERVE?PHENO?ENAON?HASTO?OOKFO?PATTE?NSAND?INDTH?HIDDE?ORDER?UTTHE?EISAN?MPORT?NTDIF?ERENC?BETWE?NTHES?TWOPU?SUITS?NCRYP?ANALY?ISONE?NOWST?ATTHE?IDDEN?RDERW?SCONS?RUCTE?BYHUM?NINTE?LIGEN?EWHER?ASTHE?RDERO?NATUR?APPAR?NTLYC?MESFR?MASOU?CEOUT?IDEOF?URSEL?ESAND?SMORE?YSTER?OUS'"
      ]
     },
     "execution_count": 14,
     "metadata": {},
     "output_type": "execute_result"
    }
   ],
   "source": [
    "util.decipher(string=s, key='LAWLA?')"
   ]
  },
  {
   "cell_type": "markdown",
   "metadata": {},
   "source": [
    "It seems like we are almost there! I think the key is law."
   ]
  },
  {
   "cell_type": "code",
   "execution_count": 15,
   "metadata": {
    "collapsed": false
   },
   "outputs": [
    {
     "data": {
      "text/plain": [
       "'CRYPTANALYSISISSIMILARINSOMERESPECTSTOSEEKINGLAWSOFNATUREALAWSUCHASTHEINVERSESQUARELAWOFGRAVITYDOESNOTMAKEITSELFOBVIOUSINTHEOBSERVEDPHENOMENAONEHASTOLOOKFORPATTERNSANDFINDTHEHIDDENORDERBUTTHEREISANIMPORTANTDIFFERENCEBETWEENTHESETWOPURSUITSINCRYPTANALYSISONEKNOWSTHATTHEHIDDENORDERWASCONSTRUCTEDBYHUMANINTELLIGENCEWHEREASTHEORDEROFNATUREAPPARENTLYCOMESFROMASOURCEOUTSIDEOFOURSELVESANDISMOREMYSTERIOUS'"
      ]
     },
     "execution_count": 15,
     "metadata": {},
     "output_type": "execute_result"
    }
   ],
   "source": [
    "util.decipher(string=s, key='LAW')"
   ]
  },
  {
   "cell_type": "markdown",
   "metadata": {
    "collapsed": true
   },
   "source": [
    "# Section 1.2"
   ]
  },
  {
   "cell_type": "markdown",
   "metadata": {},
   "source": [
    "## Problem 1"
   ]
  },
  {
   "cell_type": "markdown",
   "metadata": {},
   "source": [
    "(a) $\\displaystyle{26 \\choose 2}$"
   ]
  },
  {
   "cell_type": "code",
   "execution_count": 16,
   "metadata": {
    "collapsed": false
   },
   "outputs": [
    {
     "data": {
      "text/plain": [
       "325"
      ]
     },
     "execution_count": 16,
     "metadata": {},
     "output_type": "execute_result"
    }
   ],
   "source": [
    "from math import factorial as f\n",
    "choose = lambda x, y: f(x)/(f(y)*f(x-y))\n",
    "int(choose(26,2))"
   ]
  },
  {
   "cell_type": "markdown",
   "metadata": {},
   "source": [
    "(b) $\\displaystyle\\frac{{26 \\choose 2}{24 \\choose 2}{22 \\choose 2}{20 \\choose 2}{18 \\choose 2}{16 \\choose 2}}{6!}$. Note that we divide by $6!$ because the ordering of plugboard cables is irrelevant."
   ]
  },
  {
   "cell_type": "code",
   "execution_count": 17,
   "metadata": {
    "collapsed": false
   },
   "outputs": [
    {
     "name": "stdout",
     "output_type": "stream",
     "text": [
      "100391791500 , which is roughly 1.00e+11\n"
     ]
    }
   ],
   "source": [
    "result = choose(26,2)*choose(24,2)*choose(22,2)*choose(20,2)*choose(18,2)*choose(16,2)/f(6)\n",
    "print result, \", which is roughly\", \"{:.2e}\".format(result)"
   ]
  },
  {
   "cell_type": "markdown",
   "metadata": {},
   "source": [
    "## Problem 2"
   ]
  },
  {
   "cell_type": "markdown",
   "metadata": {},
   "source": [
    "$$\\renewcommand{\\vec}[1]{\\mathbf{#1}}$$\n",
    "From Figure 1.1 we observe that\n",
    "$$R_1A\n",
    "\\begin{bmatrix}\n",
    "    \\vec{A} & \\vec{B} & \\vec{C} & \\vec{D}\n",
    "\\end{bmatrix} = \n",
    "\\begin{bmatrix}\n",
    "    \\vec{D} & \\vec{B} & \\vec{C} & \\vec{A}\n",
    "\\end{bmatrix}$$\n",
    "whereas from Figure 1.2 we observe that\n",
    "$$R_1'A\n",
    "\\begin{bmatrix}\n",
    "    \\vec{A} & \\vec{B} & \\vec{C} & \\vec{D}\n",
    "\\end{bmatrix} = \n",
    "\\begin{bmatrix}\n",
    "    \\vec{A} & \\vec{Z} & ? & \\vec{B}\n",
    "\\end{bmatrix}$$\n",
    "Similarly, we can apply the transformation $S^{-1}R_1SA$ on these letters to get\n",
    "$$S^{-1}R_1SA\n",
    "\\begin{bmatrix}\n",
    "    \\vec{A} & \\vec{B} & \\vec{C} & \\vec{D}\n",
    "\\end{bmatrix} = \n",
    "\\begin{bmatrix}\n",
    "    \\vec{A} & \\vec{Z} & ? & \\vec{B}\n",
    "\\end{bmatrix}$$\n",
    "This shows that $R'_1$ agrees with $S^{-1}R_1SA$ for vectors $\\vec{A},\\,\\vec{B},\\,\\vec{D}$, which demonstrates that the figures are consistent. Note that $S^{-1}R_1SA\\vec{C}$ is unknown since $SA\\vec{C}=\\vec{E}$, which is not shown on the figures."
   ]
  },
  {
   "cell_type": "markdown",
   "metadata": {},
   "source": [
    "## Problem 3"
   ]
  },
  {
   "cell_type": "markdown",
   "metadata": {},
   "source": [
    "We can let $$X = AS^{-n_1}R_1^{-1}S^{(n_1-n_2)}R_2^{-1}S^{(n_2-n_3)}R_3^{-1}S^{n_3}\\\\Y = S^{-n_3}R_3S^{(n_3-n_2)}R_2S^{(n_2-n_1)}R_1S^{n_1}A$$ so that (1.3) can be rewritten as $XBY$. We note that $XY = I$ by associativity (of composition), which implies $X = Y^{-1}$ and $Y = X^{-1}$.\n",
    "\n",
    "We can write $(XBY)^{-1}=Y^{-1}B^{-1}X^{-1}$ which is equivalent to $Y^{-1}BX^{-1}$ by the nature of the reflector. Thus, we have $(XBY)^{-1}=XBY$."
   ]
  },
  {
   "cell_type": "markdown",
   "metadata": {},
   "source": [
    "## Problem 4"
   ]
  },
  {
   "cell_type": "markdown",
   "metadata": {},
   "source": [
    "First, let $R_m$ denote the permutation executed by only rotators and reflector, so that $AR_mA = P_m$. Since $AA=I$, we can write $P_mP_0^{-1}=(AR_mA)(AR_0A)^{-1}=AR_mR_0^{-1}A$. Given a cycle $a_0\\rightarrow\\dots\\rightarrow a_{n-1} \\rightarrow a_0$, we have the relationship $AR_mR_0^{-1}Aa_i = a_{i+1}$, or, $$R_mR_0^{-1}Aa_i = Aa_{i+1}$$ for all $i\\in\\mathbb{Z}_n$.\n",
    "\n",
    "Suppose that the plugboard is disabled, i.e., $A=I$, and that we have the cycle as above. We can write $R_mR_0^{-1}a_i = a_{i+1}$. Now suppose that we enable the plugboard. If none of the evolutions change, we are done. So suppose that there exists $i\\in\\mathbb{Z}_n$ such that $a'_{i+1}\\neq a_{i+1}$.\n",
    "\n",
    "The proof is incomplete since I lost my train of thought."
   ]
  },
  {
   "cell_type": "markdown",
   "metadata": {
    "collapsed": true
   },
   "source": [
    "# Section 1.3"
   ]
  },
  {
   "cell_type": "markdown",
   "metadata": {},
   "source": [
    "## Problem 2"
   ]
  },
  {
   "cell_type": "markdown",
   "metadata": {},
   "source": [
    "### (a)"
   ]
  },
  {
   "cell_type": "markdown",
   "metadata": {},
   "source": [
    "($\\Rightarrow$): I think the idea is to show that there exists $x,\\,y\\in\\mathbb{Z}_n$ such that $ax+ny=1$; after that, the proof is trivial. But I don't know how to get there without using any theorems.\n",
    "\n",
    "($\\Leftarrow$): We show by contradiction that if there exists an element $b\\in\\mathbb{Z}_n$ such that $ab=1$, then $a$ and $n$ are relatively prime.\n",
    "\n",
    "Suppose that $a$ and $n$ are not relatively prime. This implies that there exists $k\\in\\mathbb{Z}_n$ with $k>1$ such that $k$ divides both $a$ and $n$. Let $b\\in\\mathbb{Z}_n$ be an arbitrary element. Since $k$ divides $a$, we know that $k$ also divides $ab$.\n",
    "\n",
    "Now suppose that $ab=1$. This implies that $n$ divides $ab-1$. Since $k$ divides $n$, it must also be true that $k$ divides $ab-1$. Because $k$ divides both $ab$ and $ab-1$, which are relatively prime, we observe that $k=1$, which is a contradiction. Thus, $ab\\neq 1$. Since $b$ was arbitrarily chosen, it follows that there does not exist an element $b\\in\\mathbb{Z}_n$ such that $ab=1$."
   ]
  },
  {
   "cell_type": "markdown",
   "metadata": {},
   "source": [
    "### (b)"
   ]
  },
  {
   "cell_type": "markdown",
   "metadata": {},
   "source": [
    "($\\Rightarrow$): By part (a), there exists an element $b\\in\\mathbb{Z}_n$ such that $ab=1$. For each $k\\in\\mathbb{Z}_n$ we can write $abk=k$. Note that $bk\\in\\mathbb{Z}_n$ since $\\mathbb{Z}_n$ is closed under multiplication. Thus, $a$'s row contains every element of $\\mathbb{Z}_n$.\n",
    "\n",
    "($\\Leftarrow$): Since it contains every element of $\\mathbb{Z}_n$, it also contains 1. By part (a), $a$ and $n$ are relatively prime."
   ]
  },
  {
   "cell_type": "markdown",
   "metadata": {},
   "source": [
    "### (c)"
   ]
  },
  {
   "cell_type": "markdown",
   "metadata": {},
   "source": [
    "($\\Rightarrow$): Since $n$ is a prime number, it is relatively prime with all elements of $\\mathbb{Z_n}$ except 0. By part (b), all elements of $\\mathbb{Z}_n$ appear in each row.\n",
    "\n",
    "($\\Leftarrow$): We observe that 1 appears in each row except for the first one, which implies that $n$ is relatively prime with all elements of $\\mathbb{Z}_n$ except 0 by (b). It follows that $n$ is a prime number since it does not have a divisor bigger than 1."
   ]
  },
  {
   "cell_type": "markdown",
   "metadata": {},
   "source": [
    "## Problem 3"
   ]
  },
  {
   "cell_type": "markdown",
   "metadata": {},
   "source": [
    "### (a)"
   ]
  },
  {
   "cell_type": "markdown",
   "metadata": {},
   "source": [
    "($\\Rightarrow$): Suppose $n$ is prime. Let $a,\\,b\\in\\mathbb{Z}_n$ with $ab=0$. This implies that $n$ divides $ab$. We can decompose $a$ and $b$ as $a=p_{\\alpha_1}^{r_{\\alpha_1}}p_{\\alpha_2}^{r_{\\alpha_2}}\\dots p_{\\alpha_i}^{r_{\\alpha_i}}$ and $b=p_{\\beta_1}^{r_{\\beta_1}}p_{\\beta_2}^{r_{\\beta_2}}\\dots p_{\\beta_j}^{r_{\\beta_j}}$ such that $p_i$s are prime numbers and $r_i$s are positive integers. Since $n$ is a prime number, $n$ divides $ab$ implies that $$n \\in \\{p_{\\alpha_1},\\,p_{\\alpha_2},\\ldots,\\, p_{\\alpha_i},\\,p_{\\beta_1},\\,p_{\\beta_2},\\ldots,\\, p_{\\beta_j}\\}$$ It follows that $n$ divides $a$ or $n$ divides $b$, which implies $a=0$ or $b=0$.\n",
    "\n",
    "($\\Rightarrow$): Suppose $n$ is not a prime number. We want to show there exists $a,\\,b\\in\\mathbb{Z}_n$ with $ab=0$ such that $a\\neq0$ and $b\\neq0$. We can write $n=p_1p_2k$ for some $p_1,\\,p_2$ prime numbers and for some $k\\in\\mathbb{Z}_n$ with $k\\geq1$ and such that $p_1$ and $p_2$ do not divide $k$. We can choose $a=p_1k$ and $b=p_2$. It follows that $ab=0$ since $n$ divides $ab=p_1p_2k=n$. On the other hand, $n$ does not divide $a$ since $p_2$ does not divide $a$, and likewise, $n$ does not divide $b$ since $p_1$ does not divide $b$. It follows that $a\\neq0$ and $b\\neq0$."
   ]
  },
  {
   "cell_type": "markdown",
   "metadata": {},
   "source": [
    "### (b)"
   ]
  },
  {
   "cell_type": "markdown",
   "metadata": {},
   "source": [
    "($\\Rightarrow$): We can write $a(b-c)=0$. Since $a\\neq0$, it follows that $b-c=0$ by part (a), which implies that $b=c$.\n",
    "\n",
    "($\\Leftarrow$): Suppose, on the contrary, that $n$ is not a prime number. We want to show there exists $a,\\,b,\\,c\\in\\mathbb{Z}_n$ with $a\\neq0$ and $ab=ac$ such that $b\\neq c$. We can write $n=p_1p_2k$ for some $p_1,\\,p_2$ prime numbers and for some $k\\in\\mathbb{Z}_n$ with $k\\geq1$ and such that $p_1$ and $p_2$ do not divide $k$. We can choose $a=p_1k$, $b=2p_2$ and $c=p_2$. It follows that $n$ does not divide $a$ since $p_2$ does not divide $a$, so $a\\neq 0$. Moreover, $ab-ac=p_1p_2k=n$, which implies that $ab=ac$. Finally, we know that $n$ does not divide $b-c=p_2$ since $p_1$ does not divide $b-c$. It follows that $b-c\\neq 0$, which is equivalent to $b\\neq c$."
   ]
  },
  {
   "cell_type": "markdown",
   "metadata": {},
   "source": [
    "# Section 1.4"
   ]
  },
  {
   "cell_type": "markdown",
   "metadata": {},
   "source": [
    "## Problem 1"
   ]
  },
  {
   "cell_type": "markdown",
   "metadata": {},
   "source": [
    "### (a)"
   ]
  },
  {
   "cell_type": "code",
   "execution_count": 18,
   "metadata": {
    "collapsed": false
   },
   "outputs": [
    {
     "data": {
      "text/plain": [
       "matrix([['V', 'G'],\n",
       "        ['Y', 'F']], \n",
       "       dtype='|S1')"
      ]
     },
     "execution_count": 18,
     "metadata": {},
     "output_type": "execute_result"
    }
   ],
   "source": [
    "import numpy as np\n",
    "\n",
    "numbers = [util.letter_dict[letter] for letter in \"FOUR\"]\n",
    "plain_blocks = np.column_stack(tuple(numbers[i:i+2] for i in range(0, 4, 2)))\n",
    "\n",
    "K = np.matrix( ((25,0), (2, 1)) )\n",
    "decoded_blocks = np.matmul(K, plain_blocks)\n",
    "\n",
    "from string import ascii_uppercase\n",
    "convert_to_letters = np.vectorize(lambda x: ascii_uppercase[x%26])\n",
    "convert_to_letters(decoded_blocks)"
   ]
  },
  {
   "cell_type": "markdown",
   "metadata": {},
   "source": [
    "Our message is VYGF."
   ]
  },
  {
   "cell_type": "markdown",
   "metadata": {},
   "source": [
    "### (b)"
   ]
  },
  {
   "cell_type": "code",
   "execution_count": 19,
   "metadata": {
    "collapsed": false
   },
   "outputs": [
    {
     "data": {
      "text/plain": [
       "matrix([['F', 'U'],\n",
       "        ['O', 'R']], \n",
       "       dtype='|S1')"
      ]
     },
     "execution_count": 19,
     "metadata": {},
     "output_type": "execute_result"
    }
   ],
   "source": [
    "decoded_blocks = np.matmul(K, decoded_blocks)\n",
    "convert_to_letters(decoded_blocks)"
   ]
  },
  {
   "cell_type": "markdown",
   "metadata": {},
   "source": [
    "We get back FOUR!"
   ]
  },
  {
   "cell_type": "markdown",
   "metadata": {},
   "source": [
    "### (c)"
   ]
  },
  {
   "cell_type": "code",
   "execution_count": 20,
   "metadata": {
    "collapsed": false
   },
   "outputs": [
    {
     "data": {
      "text/plain": [
       "matrix([[1, 0],\n",
       "        [0, 1]])"
      ]
     },
     "execution_count": 20,
     "metadata": {},
     "output_type": "execute_result"
    }
   ],
   "source": [
    "mod26 = np.vectorize(lambda x: x%26)\n",
    "mod26(np.matmul(K, K))"
   ]
  },
  {
   "cell_type": "markdown",
   "metadata": {},
   "source": [
    "This is not a surprise at all. As we can see from the calculation above, $K^2$ yields the identity matrix, which implies that $K$ is its own inverse matrix. In other words, $KK\\vec{v}=I\\vec{v}=\\vec{v}$."
   ]
  }
 ],
 "metadata": {
  "kernelspec": {
   "display_name": "Python [conda root]",
   "language": "python",
   "name": "conda-root-py"
  },
  "language_info": {
   "codemirror_mode": {
    "name": "ipython",
    "version": 2
   },
   "file_extension": ".py",
   "mimetype": "text/x-python",
   "name": "python",
   "nbconvert_exporter": "python",
   "pygments_lexer": "ipython2",
   "version": "2.7.13"
  }
 },
 "nbformat": 4,
 "nbformat_minor": 2
}
