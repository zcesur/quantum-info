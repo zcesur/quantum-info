{
 "cells": [
  {
   "cell_type": "code",
   "execution_count": 1,
   "metadata": {
    "collapsed": true
   },
   "outputs": [],
   "source": [
    "import util"
   ]
  },
  {
   "cell_type": "markdown",
   "metadata": {},
   "source": [
    "# Section 1.1"
   ]
  },
  {
   "cell_type": "markdown",
   "metadata": {},
   "source": [
    "## Problem 2"
   ]
  },
  {
   "cell_type": "code",
   "execution_count": 2,
   "metadata": {
    "collapsed": true
   },
   "outputs": [],
   "source": [
    "s = \"VQFGE KRJGT VJKUU GPVGP EGUJK HVGCE JNGVV GTDCE MYCTF DAVYQ UVGRU\".replace(' ', '').upper()"
   ]
  },
  {
   "cell_type": "markdown",
   "metadata": {},
   "source": [
    "First let us take a look at the most frequent trigrams that appear in the ciphertext, in hopes of replacing them with common 3-letter words in English."
   ]
  },
  {
   "cell_type": "code",
   "execution_count": 3,
   "metadata": {
    "collapsed": false
   },
   "outputs": [
    {
     "data": {
      "text/plain": [
       "[('FDA', 1), ('VYQ', 1), ('GUJ', 1)]"
      ]
     },
     "execution_count": 3,
     "metadata": {},
     "output_type": "execute_result"
    }
   ],
   "source": [
    "util.most_freq_ngrams(s,3,3)"
   ]
  },
  {
   "cell_type": "markdown",
   "metadata": {},
   "source": [
    "Not helpful! Apparently there is no repeating trigram. Let us look at the frequency of the letters in the text."
   ]
  },
  {
   "cell_type": "code",
   "execution_count": 4,
   "metadata": {
    "collapsed": false
   },
   "outputs": [
    {
     "data": {
      "text/plain": [
       "[('G', 9), ('V', 8), ('U', 5)]"
      ]
     },
     "execution_count": 4,
     "metadata": {},
     "output_type": "execute_result"
    }
   ],
   "source": [
    "util.most_freq_ngrams(s,1,3)"
   ]
  },
  {
   "cell_type": "markdown",
   "metadata": {},
   "source": [
    "Let us try to shift each letter so that G becomes a letter that appears very frequently in English. How about E?"
   ]
  },
  {
   "cell_type": "code",
   "execution_count": 5,
   "metadata": {
    "collapsed": false
   },
   "outputs": [
    {
     "data": {
      "text/plain": [
       "'TODECIPHERTHISSENTENCESHIFTEACHLETTERBACKWARDBYTWOSTEPS'"
      ]
     },
     "execution_count": 5,
     "metadata": {},
     "output_type": "execute_result"
    }
   ],
   "source": [
    "util.shift_letters(s, 'G', 'E')"
   ]
  },
  {
   "cell_type": "markdown",
   "metadata": {},
   "source": [
    "Bingo!"
   ]
  },
  {
   "cell_type": "markdown",
   "metadata": {},
   "source": [
    "## Problem 3"
   ]
  },
  {
   "cell_type": "code",
   "execution_count": 6,
   "metadata": {
    "collapsed": false
   },
   "outputs": [],
   "source": [
    "s = 'NRUATW YAHJSE DIODII TLWCIJ DOIPRA DPANTO EOOPEG TNCWAS DOBYAP FRALLW HSQNHW ' \\\n",
    "    'DTDPIJ GENDEO BUWCEH LWKQGN LVEEYZ ZEOYOP XAGPIP DEHQOX GIKFSE YTDPOX DENGEZ ' \\\n",
    "    'AHAYOI PNWZNA SAOEOH ZOGQON AAPEEN YSWYDB TNZEHA SIZOEJ ZRZPRX FTPSEN PIOLNE ' \\\n",
    "    'XPKCTW YTZTFB PRAYCA MEPHEA YTDPSA EWKAUN DUEESE YCNJPP LNWWYO TSKYEG YOSDTD ' \\\n",
    "    'LTPSED TDZPNK CDACWW DCKYSP CUYEEZ MYDFMW YIJEEH WICPNY PWDPRA LSPSEK CDACOB ' \\\n",
    "    'YAPFRA LPLLRA YTHJCK XEOQRK XAOZUN NEKFTO TDAZFK FROPLR PSWYDE DMKCEI JSPPRE ZUO' \\\n",
    "    .replace(' ', '').upper()"
   ]
  },
  {
   "cell_type": "markdown",
   "metadata": {},
   "source": [
    "Again, we start with a frequency analysis."
   ]
  },
  {
   "cell_type": "code",
   "execution_count": 7,
   "metadata": {
    "collapsed": false
   },
   "outputs": [
    {
     "data": {
      "text/plain": [
       "[('DTD', 3), ('TDP', 3), ('PRA', 3), ('RAL', 3), ('PSE', 3)]"
      ]
     },
     "execution_count": 7,
     "metadata": {},
     "output_type": "execute_result"
    }
   ],
   "source": [
    "util.most_freq_ngrams(s,3,5)"
   ]
  },
  {
   "cell_type": "markdown",
   "metadata": {},
   "source": [
    "Let us take a look at how the different instances of, say, DTD are distributed in the plaintext. It is useful to look at the periodicity of their separations."
   ]
  },
  {
   "cell_type": "code",
   "execution_count": 8,
   "metadata": {
    "collapsed": false
   },
   "outputs": [
    {
     "data": {
      "text/plain": [
       "1"
      ]
     },
     "execution_count": 8,
     "metadata": {},
     "output_type": "execute_result"
    }
   ],
   "source": [
    "from re import finditer\n",
    "start_indices = [m.start() for m in finditer('DTD', s)]\n",
    "\n",
    "# Compute the greatest common divisor of index differences\n",
    "from fractions import gcd\n",
    "reduce(gcd, [x-y for i,x in enumerate(start_indices) for j,y in enumerate(start_indices) if x>y])"
   ]
  },
  {
   "cell_type": "markdown",
   "metadata": {},
   "source": [
    "It seems like our key is at most 1-letter long! That can't be true. Let us try another trigram, say, TDP."
   ]
  },
  {
   "cell_type": "code",
   "execution_count": 9,
   "metadata": {
    "collapsed": false
   },
   "outputs": [
    {
     "data": {
      "text/plain": [
       "6"
      ]
     },
     "execution_count": 9,
     "metadata": {},
     "output_type": "execute_result"
    }
   ],
   "source": [
    "start_indices = [m.start() for m in finditer('TDP', s)]\n",
    "reduce(gcd, [x-y for i,x in enumerate(start_indices) for j,y in enumerate(start_indices) if x>y])"
   ]
  },
  {
   "cell_type": "markdown",
   "metadata": {},
   "source": [
    "If we are on the right track, the key must be either 2, 3, or 6 letters long. Let us find which indices TDP corresponds to in modulo 6."
   ]
  },
  {
   "cell_type": "code",
   "execution_count": 10,
   "metadata": {
    "collapsed": false
   },
   "outputs": [
    {
     "data": {
      "text/plain": [
       "[1, 2, 3]"
      ]
     },
     "execution_count": 10,
     "metadata": {},
     "output_type": "execute_result"
    }
   ],
   "source": [
    "range(s.find('TDP')%6, s.find('TDP')%6+3)"
   ]
  },
  {
   "cell_type": "markdown",
   "metadata": {},
   "source": [
    "Now let us try to substitute TDP with a commonly used word, say, THE."
   ]
  },
  {
   "cell_type": "code",
   "execution_count": 11,
   "metadata": {
    "collapsed": false
   },
   "outputs": [
    {
     "data": {
      "text/plain": [
       "'AWL'"
      ]
     },
     "execution_count": 11,
     "metadata": {},
     "output_type": "execute_result"
    }
   ],
   "source": [
    "util.substract_letters('TDP', 'THE')"
   ]
  },
  {
   "cell_type": "markdown",
   "metadata": {},
   "source": [
    "We can now decypher the text partially using our prospective key."
   ]
  },
  {
   "cell_type": "code",
   "execution_count": 12,
   "metadata": {
    "collapsed": false
   },
   "outputs": [
    {
     "data": {
      "text/plain": [
       "'?RYP???ALY???ISS???LAR???OME???PEC???OSE???NGL???OFN???REA???SUC???THE???ERS???UAR???WOF???VIT???ESN???AKE???ELF???IOU???THE???ERV???HEN???NAO???AST???OKF???ATT???SAN???NDT???IDD???RDE???TTH???ISA???POR???TDI???REN???ETW???THE???WOP???UIT???CRY???NAL???SON???OWS???TTH???DDE???DER???CON???UCT???YHU???INT???IGE???WHE???STH???DER???ATU???PPA???TLY???ESF???ASO???EOU???DEO???RSE???SAN???MOR???STE???US'"
      ]
     },
     "execution_count": 12,
     "metadata": {},
     "output_type": "execute_result"
    }
   ],
   "source": [
    "util.decypher(s, 'AWL', [1,2,3], 6)"
   ]
  },
  {
   "cell_type": "markdown",
   "metadata": {},
   "source": [
    "My guess is that the plaintext starts with crypt-. Let us check."
   ]
  },
  {
   "cell_type": "code",
   "execution_count": 13,
   "metadata": {
    "collapsed": false
   },
   "outputs": [
    {
     "data": {
      "text/plain": [
       "'LAWLA'"
      ]
     },
     "execution_count": 13,
     "metadata": {},
     "output_type": "execute_result"
    }
   ],
   "source": [
    "util.substract_letters(s[0:6], 'CRYPT')"
   ]
  },
  {
   "cell_type": "code",
   "execution_count": 14,
   "metadata": {
    "collapsed": false
   },
   "outputs": [
    {
     "data": {
      "text/plain": [
       "'CRYPT?NALYS?SISSI?ILARI?SOMER?SPECT?TOSEE?INGLA?SOFNA?UREAL?WSUCH?STHEI?VERSE?QUARE?AWOFG?AVITY?OESNO?MAKEI?SELFO?VIOUS?NTHEO?SERVE?PHENO?ENAON?HASTO?OOKFO?PATTE?NSAND?INDTH?HIDDE?ORDER?UTTHE?EISAN?MPORT?NTDIF?ERENC?BETWE?NTHES?TWOPU?SUITS?NCRYP?ANALY?ISONE?NOWST?ATTHE?IDDEN?RDERW?SCONS?RUCTE?BYHUM?NINTE?LIGEN?EWHER?ASTHE?RDERO?NATUR?APPAR?NTLYC?MESFR?MASOU?CEOUT?IDEOF?URSEL?ESAND?SMORE?YSTER?OUS'"
      ]
     },
     "execution_count": 14,
     "metadata": {},
     "output_type": "execute_result"
    }
   ],
   "source": [
    "util.decypher(s, 'LAWLA', range(5), 6)"
   ]
  },
  {
   "cell_type": "markdown",
   "metadata": {},
   "source": [
    "It seems like we are almost there! I think the key is law."
   ]
  },
  {
   "cell_type": "code",
   "execution_count": 15,
   "metadata": {
    "collapsed": false
   },
   "outputs": [
    {
     "data": {
      "text/plain": [
       "'CRYPTANALYSISISSIMILARINSOMERESPECTSTOSEEKINGLAWSOFNATUREALAWSUCHASTHEINVERSESQUARELAWOFGRAVITYDOESNOTMAKEITSELFOBVIOUSINTHEOBSERVEDPHENOMENAONEHASTOLOOKFORPATTERNSANDFINDTHEHIDDENORDERBUTTHEREISANIMPORTANTDIFFERENCEBETWEENTHESETWOPURSUITSINCRYPTANALYSISONEKNOWSTHATTHEHIDDENORDERWASCONSTRUCTEDBYHUMANINTELLIGENCEWHEREASTHEORDEROFNATUREAPPARENTLYCOMESFROMASOURCEOUTSIDEOFOURSELVESANDISMOREMYSTERIOUS'"
      ]
     },
     "execution_count": 15,
     "metadata": {},
     "output_type": "execute_result"
    }
   ],
   "source": [
    "util.decypher(s, 'LAW', range(3), 3)"
   ]
  },
  {
   "cell_type": "markdown",
   "metadata": {
    "collapsed": true
   },
   "source": [
    "# Section 1.2"
   ]
  },
  {
   "cell_type": "markdown",
   "metadata": {},
   "source": [
    "## Problem 1"
   ]
  },
  {
   "cell_type": "markdown",
   "metadata": {},
   "source": [
    "(a) $\\displaystyle{26 \\choose 2}$"
   ]
  },
  {
   "cell_type": "code",
   "execution_count": 33,
   "metadata": {
    "collapsed": false
   },
   "outputs": [
    {
     "data": {
      "text/plain": [
       "325"
      ]
     },
     "execution_count": 33,
     "metadata": {},
     "output_type": "execute_result"
    }
   ],
   "source": [
    "from math import factorial as f\n",
    "choose = lambda x, y: f(x)/(f(y)*f(x-y))\n",
    "int(choose(26,2))"
   ]
  },
  {
   "cell_type": "markdown",
   "metadata": {},
   "source": [
    "(b) $\\displaystyle{26 \\choose 2}{24 \\choose 2}{22 \\choose 2}{20 \\choose 2}{18 \\choose 2}{16 \\choose 2}$"
   ]
  },
  {
   "cell_type": "code",
   "execution_count": 36,
   "metadata": {
    "collapsed": false
   },
   "outputs": [
    {
     "data": {
      "text/plain": [
       "'7.23e+13'"
      ]
     },
     "execution_count": 36,
     "metadata": {},
     "output_type": "execute_result"
    }
   ],
   "source": [
    "result = choose(26,2)*choose(24,2)*choose(22,2)*choose(20,2)*choose(18,2)*choose(16,2)\n",
    "\"{:.2e}\".format(result)"
   ]
  },
  {
   "cell_type": "markdown",
   "metadata": {},
   "source": [
    "## Problem 2"
   ]
  },
  {
   "cell_type": "markdown",
   "metadata": {},
   "source": [
    "## Problem 3"
   ]
  },
  {
   "cell_type": "markdown",
   "metadata": {},
   "source": [
    "We can let $$X = AS^{-n_1}R_1^{-1}S^{(n_1-n_2)}R_2^{-1}S^{(n_2-n_3)}R_3^{-1}S^{n_3}\\\\Y = S^{-n_3}R_3S^{(n_3-n_2)}R_2S^{(n_2-n_1)}R_1S^{n_1}A$$ so that (1.3) can be rewritten as $XBY$. We note that $XY = I$ by associativity (of composition), which implies $X = Y^{-1}$ and $Y = X^{-1}$.\n",
    "\n",
    "We can write $(XBY)^{-1}=Y^{-1}B^{-1}X^{-1}$ which is equivalent to $Y^{-1}BX^{-1}$ by the nature of the reflector. Thus, we have $(XBY)^{-1}=XBY$."
   ]
  },
  {
   "cell_type": "markdown",
   "metadata": {},
   "source": [
    "## Problem 4"
   ]
  },
  {
   "cell_type": "code",
   "execution_count": null,
   "metadata": {
    "collapsed": true
   },
   "outputs": [],
   "source": []
  }
 ],
 "metadata": {
  "kernelspec": {
   "display_name": "Python [conda root]",
   "language": "python",
   "name": "conda-root-py"
  },
  "language_info": {
   "codemirror_mode": {
    "name": "ipython",
    "version": 2
   },
   "file_extension": ".py",
   "mimetype": "text/x-python",
   "name": "python",
   "nbconvert_exporter": "python",
   "pygments_lexer": "ipython2",
   "version": "2.7.13"
  }
 },
 "nbformat": 4,
 "nbformat_minor": 2
}
